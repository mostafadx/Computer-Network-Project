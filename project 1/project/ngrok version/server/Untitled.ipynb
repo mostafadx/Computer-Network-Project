{
 "cells": [
  {
   "cell_type": "code",
   "execution_count": 7,
   "id": "2dc50895",
   "metadata": {},
   "outputs": [
    {
     "name": "stdout",
     "output_type": "stream",
     "text": [
      "(b'total 17M\\ndrwxrwxr-x 3 mostafa mostafa 4.0K Mar 28 16:25 dir1\\n-rwxr-xr-x 1 mostafa mostafa  17M Apr 12 00:00 ngrok\\n-rw-rw-r-- 1 mostafa mostafa 5.1K Apr 21 15:53 server.py\\n-rw-rw-r-- 1 mostafa mostafa 2.2K Apr 21 16:13 Untitled.ipynb\\n', None)\n"
     ]
    }
   ],
   "source": [
    "import subprocess\n",
    "\n",
    "# This is our shell command, executed by Popen.\n",
    "\n",
    "p = subprocess.Popen(\"ls -lh\", stdout=subprocess.PIPE, shell=True)\n",
    "\n",
    "print(p.communicate())"
   ]
  },
  {
   "cell_type": "code",
   "execution_count": 6,
   "id": "5da2f57f",
   "metadata": {},
   "outputs": [
    {
     "ename": "TypeError",
     "evalue": "'NoneType' object is not callable",
     "output_type": "error",
     "traceback": [
      "\u001b[0;31m---------------------------------------------------------------------------\u001b[0m",
      "\u001b[0;31mTypeError\u001b[0m                                 Traceback (most recent call last)",
      "\u001b[0;32m/tmp/ipykernel_16228/3489303235.py\u001b[0m in \u001b[0;36m<module>\u001b[0;34m\u001b[0m\n\u001b[0;32m----> 1\u001b[0;31m \u001b[0mp\u001b[0m\u001b[0;34m.\u001b[0m\u001b[0mstdout\u001b[0m\u001b[0;34m(\u001b[0m\u001b[0;34m)\u001b[0m\u001b[0;34m\u001b[0m\u001b[0;34m\u001b[0m\u001b[0m\n\u001b[0m",
      "\u001b[0;31mTypeError\u001b[0m: 'NoneType' object is not callable"
     ]
    }
   ],
   "source": [
    "p.stdout()"
   ]
  },
  {
   "cell_type": "code",
   "execution_count": null,
   "id": "24c0c4b6",
   "metadata": {},
   "outputs": [],
   "source": [
    "import subprocess\n",
    "\n",
    "# This is our shell command, executed by Popen.\n",
    "\n",
    "p = subprocess.Popen(\"ls -lh\", stdout=subprocess.PIPE, shell=True)\n",
    "\n",
    "print(p.communicate())"
   ]
  }
 ],
 "metadata": {
  "kernelspec": {
   "display_name": "Python 3 (ipykernel)",
   "language": "python",
   "name": "python3"
  },
  "language_info": {
   "codemirror_mode": {
    "name": "ipython",
    "version": 3
   },
   "file_extension": ".py",
   "mimetype": "text/x-python",
   "name": "python",
   "nbconvert_exporter": "python",
   "pygments_lexer": "ipython3",
   "version": "3.8.10"
  }
 },
 "nbformat": 4,
 "nbformat_minor": 5
}
